{
 "cells": [
  {
   "cell_type": "code",
   "execution_count": 149,
   "metadata": {},
   "outputs": [],
   "source": [
    "import pandas as pd\n",
    "import numpy as np\n",
    "import openpyxl"
   ]
  },
  {
   "cell_type": "code",
   "execution_count": 150,
   "metadata": {},
   "outputs": [
    {
     "data": {
      "text/html": [
       "<div>\n",
       "<style scoped>\n",
       "    .dataframe tbody tr th:only-of-type {\n",
       "        vertical-align: middle;\n",
       "    }\n",
       "\n",
       "    .dataframe tbody tr th {\n",
       "        vertical-align: top;\n",
       "    }\n",
       "\n",
       "    .dataframe thead th {\n",
       "        text-align: right;\n",
       "    }\n",
       "</style>\n",
       "<table border=\"1\" class=\"dataframe\">\n",
       "  <thead>\n",
       "    <tr style=\"text-align: right;\">\n",
       "      <th></th>\n",
       "      <th>x1</th>\n",
       "      <th>x2</th>\n",
       "      <th>x3</th>\n",
       "      <th>x4</th>\n",
       "      <th>x5</th>\n",
       "    </tr>\n",
       "  </thead>\n",
       "  <tbody>\n",
       "    <tr>\n",
       "      <th>count</th>\n",
       "      <td>37.000000</td>\n",
       "      <td>39.000000</td>\n",
       "      <td>35.000000</td>\n",
       "      <td>35.000000</td>\n",
       "      <td>37.000000</td>\n",
       "    </tr>\n",
       "    <tr>\n",
       "      <th>mean</th>\n",
       "      <td>0.399609</td>\n",
       "      <td>0.379761</td>\n",
       "      <td>0.416253</td>\n",
       "      <td>0.488401</td>\n",
       "      <td>0.265485</td>\n",
       "    </tr>\n",
       "    <tr>\n",
       "      <th>std</th>\n",
       "      <td>1.212635</td>\n",
       "      <td>1.118963</td>\n",
       "      <td>1.128018</td>\n",
       "      <td>1.347022</td>\n",
       "      <td>1.181603</td>\n",
       "    </tr>\n",
       "    <tr>\n",
       "      <th>min</th>\n",
       "      <td>-2.679666</td>\n",
       "      <td>-2.750918</td>\n",
       "      <td>-2.841926</td>\n",
       "      <td>-2.845942</td>\n",
       "      <td>-2.628937</td>\n",
       "    </tr>\n",
       "    <tr>\n",
       "      <th>25%</th>\n",
       "      <td>-0.364650</td>\n",
       "      <td>-0.189670</td>\n",
       "      <td>-0.230137</td>\n",
       "      <td>-0.095817</td>\n",
       "      <td>-0.368145</td>\n",
       "    </tr>\n",
       "    <tr>\n",
       "      <th>50%</th>\n",
       "      <td>0.700845</td>\n",
       "      <td>0.570253</td>\n",
       "      <td>0.564582</td>\n",
       "      <td>0.741010</td>\n",
       "      <td>0.475927</td>\n",
       "    </tr>\n",
       "    <tr>\n",
       "      <th>75%</th>\n",
       "      <td>0.931806</td>\n",
       "      <td>0.946296</td>\n",
       "      <td>1.102426</td>\n",
       "      <td>1.141382</td>\n",
       "      <td>1.037638</td>\n",
       "    </tr>\n",
       "    <tr>\n",
       "      <th>max</th>\n",
       "      <td>3.185588</td>\n",
       "      <td>3.415043</td>\n",
       "      <td>2.865721</td>\n",
       "      <td>3.256499</td>\n",
       "      <td>2.645745</td>\n",
       "    </tr>\n",
       "  </tbody>\n",
       "</table>\n",
       "</div>"
      ],
      "text/plain": [
       "              x1         x2         x3         x4         x5\n",
       "count  37.000000  39.000000  35.000000  35.000000  37.000000\n",
       "mean    0.399609   0.379761   0.416253   0.488401   0.265485\n",
       "std     1.212635   1.118963   1.128018   1.347022   1.181603\n",
       "min    -2.679666  -2.750918  -2.841926  -2.845942  -2.628937\n",
       "25%    -0.364650  -0.189670  -0.230137  -0.095817  -0.368145\n",
       "50%     0.700845   0.570253   0.564582   0.741010   0.475927\n",
       "75%     0.931806   0.946296   1.102426   1.141382   1.037638\n",
       "max     3.185588   3.415043   2.865721   3.256499   2.645745"
      ]
     },
     "execution_count": 150,
     "metadata": {},
     "output_type": "execute_result"
    }
   ],
   "source": [
    "df = pd.read_csv(\"/home/bethtian/fintech545/FinTech545_Spring2025/Projects/Project01/problem2.csv\")\n",
    "df_info = df.describe()\n",
    "df_info"
   ]
  },
  {
   "cell_type": "markdown",
   "metadata": {},
   "source": [
    "# A. Calculate the pairwise covariance matrix of the data."
   ]
  },
  {
   "cell_type": "code",
   "execution_count": 151,
   "metadata": {},
   "outputs": [
    {
     "data": {
      "text/html": [
       "<div>\n",
       "<style scoped>\n",
       "    .dataframe tbody tr th:only-of-type {\n",
       "        vertical-align: middle;\n",
       "    }\n",
       "\n",
       "    .dataframe tbody tr th {\n",
       "        vertical-align: top;\n",
       "    }\n",
       "\n",
       "    .dataframe thead th {\n",
       "        text-align: right;\n",
       "    }\n",
       "</style>\n",
       "<table border=\"1\" class=\"dataframe\">\n",
       "  <thead>\n",
       "    <tr style=\"text-align: right;\">\n",
       "      <th></th>\n",
       "      <th>x1</th>\n",
       "      <th>x2</th>\n",
       "      <th>x3</th>\n",
       "      <th>x4</th>\n",
       "      <th>x5</th>\n",
       "    </tr>\n",
       "  </thead>\n",
       "  <tbody>\n",
       "    <tr>\n",
       "      <th>x1</th>\n",
       "      <td>1.470484</td>\n",
       "      <td>1.454214</td>\n",
       "      <td>0.877269</td>\n",
       "      <td>1.903226</td>\n",
       "      <td>1.444361</td>\n",
       "    </tr>\n",
       "    <tr>\n",
       "      <th>x2</th>\n",
       "      <td>1.454214</td>\n",
       "      <td>1.252078</td>\n",
       "      <td>0.539548</td>\n",
       "      <td>1.621918</td>\n",
       "      <td>1.237877</td>\n",
       "    </tr>\n",
       "    <tr>\n",
       "      <th>x3</th>\n",
       "      <td>0.877269</td>\n",
       "      <td>0.539548</td>\n",
       "      <td>1.272425</td>\n",
       "      <td>1.171959</td>\n",
       "      <td>1.091912</td>\n",
       "    </tr>\n",
       "    <tr>\n",
       "      <th>x4</th>\n",
       "      <td>1.903226</td>\n",
       "      <td>1.621918</td>\n",
       "      <td>1.171959</td>\n",
       "      <td>1.814469</td>\n",
       "      <td>1.589729</td>\n",
       "    </tr>\n",
       "    <tr>\n",
       "      <th>x5</th>\n",
       "      <td>1.444361</td>\n",
       "      <td>1.237877</td>\n",
       "      <td>1.091912</td>\n",
       "      <td>1.589729</td>\n",
       "      <td>1.396186</td>\n",
       "    </tr>\n",
       "  </tbody>\n",
       "</table>\n",
       "</div>"
      ],
      "text/plain": [
       "          x1        x2        x3        x4        x5\n",
       "x1  1.470484  1.454214  0.877269  1.903226  1.444361\n",
       "x2  1.454214  1.252078  0.539548  1.621918  1.237877\n",
       "x3  0.877269  0.539548  1.272425  1.171959  1.091912\n",
       "x4  1.903226  1.621918  1.171959  1.814469  1.589729\n",
       "x5  1.444361  1.237877  1.091912  1.589729  1.396186"
      ]
     },
     "execution_count": 151,
     "metadata": {},
     "output_type": "execute_result"
    }
   ],
   "source": [
    "cov_matrix = df.cov()\n",
    "cov_matrix.to_excel(\"/home/bethtian/fintech545/beth-fintech545/Project01/Problem_2_a.xlsx\")\n",
    "cov_matrix"
   ]
  },
  {
   "cell_type": "markdown",
   "metadata": {},
   "source": [
    "# B. Is the Matrix at least positive semi-definite? Why?"
   ]
  },
  {
   "cell_type": "code",
   "execution_count": 152,
   "metadata": {},
   "outputs": [],
   "source": [
    "def CheckSemi(matrix):\n",
    "    #check all values are great or equal to 0\n",
    "    if not np.all(matrix >= 0):\n",
    "        print(\"The matrix is not positive semi-definite, because at least one value in the matrix is less than 0.\")\n",
    "        return False\n",
    "    # Check the symmetry\n",
    "    if not np.allclose(matrix,matrix.T):\n",
    "        print(\"The matrix is not positive semi-definite, because the matrix is not symmetric\")\n",
    "        return False\n",
    "    #calculate the eigen values\n",
    "    eigenvalues = np.linalg.eigvals(matrix)\n",
    "    if not np.all(eigenvalues >= -1e-10):\n",
    "        print(\"The matrix is not positive semi-definite, because at least one value in eigen vectors is less than 0. \")\n",
    "        return eigenvalues\n",
    "    return True"
   ]
  },
  {
   "cell_type": "code",
   "execution_count": 153,
   "metadata": {},
   "outputs": [
    {
     "name": "stdout",
     "output_type": "stream",
     "text": [
      "The matrix is not positive semi-definite, because at least one value in eigen vectors is less than 0. \n"
     ]
    },
    {
     "data": {
      "text/plain": [
       "array([ 6.78670573,  0.83443367, -0.31024286,  0.02797828, -0.13323183])"
      ]
     },
     "execution_count": 153,
     "metadata": {},
     "output_type": "execute_result"
    }
   ],
   "source": [
    "CheckSemi(cov_matrix)"
   ]
  },
  {
   "cell_type": "markdown",
   "metadata": {},
   "source": [
    "Because there are some eigen values of the covariance matrix less than 0, we cannot prove the matrix is a semi-definite matrix."
   ]
  },
  {
   "cell_type": "markdown",
   "metadata": {},
   "source": [
    "# C. If not, find the nearest positive semi-definite matrix using Higham’s method and the near-psd method of Rebenato and Jackel."
   ]
  },
  {
   "cell_type": "markdown",
   "metadata": {},
   "source": [
    "## C.1 Higham's Method"
   ]
  },
  {
   "cell_type": "code",
   "execution_count": 154,
   "metadata": {},
   "outputs": [],
   "source": [
    "from numpy import linalg as LA"
   ]
  },
  {
   "cell_type": "code",
   "execution_count": 155,
   "metadata": {},
   "outputs": [],
   "source": [
    "def compute_gamma(A, C):\n",
    "    return np.linalg.norm(A - C, 'fro')\n",
    "\n",
    "def project_U(A, W):\n",
    "    W_sqrt = np.sqrt(W)\n",
    "    W_inv_sqrt = 1 / W_sqrt\n",
    "    \n",
    "    B = W_sqrt[:, None] * A * W_sqrt\n",
    "    \n",
    "    eigenvalues, eigenvectors = np.linalg.eigh(B)\n",
    "\n",
    "    eigenvalues = np.maximum(eigenvalues, 0)\n",
    "\n",
    "    B = eigenvectors @ np.diag(eigenvalues) @ eigenvectors.T\n",
    "\n",
    "\n",
    "    return W_inv_sqrt[:, None] * B * W_inv_sqrt\n",
    "\n",
    "\n",
    "\n",
    "def project_S(A, original_diag):\n",
    "    P = A.copy()\n",
    "    np.fill_diagonal(P, original_diag)\n",
    "    return P\n"
   ]
  },
  {
   "cell_type": "code",
   "execution_count": 156,
   "metadata": {},
   "outputs": [],
   "source": [
    "\n",
    "def weighted_nearest_correlation_matrix(A, W=None, max_iterations=100, tol=1e-5, debug=False):\n",
    "    A = np.asarray(A)\n",
    "    n = A.shape[0]\n",
    "    original_diag = np.diag(A).copy()\n",
    "    C = A.copy()  \n",
    "    \n",
    "    if W is None:\n",
    "        W = np.ones(n)\n",
    "    else:\n",
    "        W = np.asarray(W)\n",
    "    \n",
    "    DS = np.zeros_like(A)\n",
    "    Y = A.copy()\n",
    "    prev_gamma = float('inf')\n",
    "\n",
    "    for k in range(max_iterations):\n",
    "        if debug:\n",
    "            print(f\"\\nIteration {k+1}\")\n",
    "        \n",
    "        R = Y - DS\n",
    "        X = project_S(R, original_diag)\n",
    "        DS = X - R\n",
    "        Y = project_U(X, W)\n",
    "\n",
    "        current_gamma = compute_gamma(Y, C)\n",
    "\n",
    "        gamma_diff = abs(current_gamma - prev_gamma)\n",
    "        if debug:\n",
    "            print(f\"Current gamma: {current_gamma}\")\n",
    "            print(f\"Gamma difference: {gamma_diff}\")\n",
    "        \n",
    "        if gamma_diff < tol:\n",
    "            break\n",
    "            \n",
    "        prev_gamma = current_gamma\n",
    "    \n",
    "    return Y"
   ]
  },
  {
   "cell_type": "code",
   "execution_count": 158,
   "metadata": {},
   "outputs": [
    {
     "name": "stdout",
     "output_type": "stream",
     "text": [
      "\n",
      "The nearest PSD matrix is:\n",
      "[[1.47049433 1.33384879 0.8983436  1.62994852 1.40333022]\n",
      " [1.33384879 1.2520842  0.64015263 1.46036423 1.2239064 ]\n",
      " [0.8983436  0.64015263 1.27242641 1.07081103 1.06033915]\n",
      " [1.62994852 1.46036423 1.07081103 1.81447807 1.57655974]\n",
      " [1.40333022 1.2239064  1.06033915 1.57655974 1.39619756]]\n",
      "\n",
      "Is it a PSD matrix? True\n"
     ]
    }
   ],
   "source": [
    "Y = weighted_nearest_correlation_matrix(cov_matrix)\n",
    "df_Y = pd.DataFrame(Y)\n",
    "df_Y.to_excel('/home/bethtian/fintech545/beth-fintech545/Project01/Problem_2_c_Higham.xlsx')\n",
    "print(\"\\nThe nearest PSD matrix is:\")\n",
    "print(Y)\n",
    "print(\"\\nIs it a PSD matrix?\", CheckSemi(Y))"
   ]
  },
  {
   "cell_type": "markdown",
   "metadata": {},
   "source": [
    "## C.2 Rebenato and Jackel Method"
   ]
  },
  {
   "cell_type": "code",
   "execution_count": 159,
   "metadata": {},
   "outputs": [],
   "source": [
    "def near_psd(a, epsilon=0.0):\n",
    "    if isinstance(a, pd.DataFrame):\n",
    "        a = a.to_numpy()\n",
    "    \n",
    "    n = a.shape[0]\n",
    "    inv_sd = None\n",
    "    out = a.copy()\n",
    "    \n",
    "    if not np.allclose(np.diag(out), np.ones(n)):\n",
    "        inv_sd = np.diag(1.0 / np.sqrt(np.diag(out)))\n",
    "        out = inv_sd @ out @ inv_sd\n",
    "\n",
    "    vals, vecs = np.linalg.eigh(out)\n",
    "    vals = np.maximum(vals, epsilon)\n",
    "    \n",
    "    T = 1.0 / np.sqrt(np.sum(vecs * vecs * vals, axis=1))\n",
    "    T = np.diag(T)\n",
    "    \n",
    "    L = np.diag(np.sqrt(vals))\n",
    "    \n",
    "    B = T @ vecs @ L\n",
    "    out = B @ B.T\n",
    "\n",
    "    if inv_sd is not None:\n",
    "        inv_sd = np.diag(1.0 / np.diag(inv_sd))\n",
    "        out = inv_sd @ out @ inv_sd\n",
    "    \n",
    "    return out"
   ]
  },
  {
   "cell_type": "code",
   "execution_count": 160,
   "metadata": {},
   "outputs": [
    {
     "data": {
      "text/html": [
       "<div>\n",
       "<style scoped>\n",
       "    .dataframe tbody tr th:only-of-type {\n",
       "        vertical-align: middle;\n",
       "    }\n",
       "\n",
       "    .dataframe tbody tr th {\n",
       "        vertical-align: top;\n",
       "    }\n",
       "\n",
       "    .dataframe thead th {\n",
       "        text-align: right;\n",
       "    }\n",
       "</style>\n",
       "<table border=\"1\" class=\"dataframe\">\n",
       "  <thead>\n",
       "    <tr style=\"text-align: right;\">\n",
       "      <th></th>\n",
       "      <th>0</th>\n",
       "      <th>1</th>\n",
       "      <th>2</th>\n",
       "      <th>3</th>\n",
       "      <th>4</th>\n",
       "    </tr>\n",
       "  </thead>\n",
       "  <tbody>\n",
       "    <tr>\n",
       "      <th>0</th>\n",
       "      <td>1.470484</td>\n",
       "      <td>1.327009</td>\n",
       "      <td>0.842583</td>\n",
       "      <td>1.624464</td>\n",
       "      <td>1.364833</td>\n",
       "    </tr>\n",
       "    <tr>\n",
       "      <th>1</th>\n",
       "      <td>1.327009</td>\n",
       "      <td>1.252078</td>\n",
       "      <td>0.555421</td>\n",
       "      <td>1.433109</td>\n",
       "      <td>1.165906</td>\n",
       "    </tr>\n",
       "    <tr>\n",
       "      <th>2</th>\n",
       "      <td>0.842583</td>\n",
       "      <td>0.555421</td>\n",
       "      <td>1.272425</td>\n",
       "      <td>1.052789</td>\n",
       "      <td>1.060424</td>\n",
       "    </tr>\n",
       "    <tr>\n",
       "      <th>3</th>\n",
       "      <td>1.624464</td>\n",
       "      <td>1.433109</td>\n",
       "      <td>1.052789</td>\n",
       "      <td>1.814469</td>\n",
       "      <td>1.544993</td>\n",
       "    </tr>\n",
       "    <tr>\n",
       "      <th>4</th>\n",
       "      <td>1.364833</td>\n",
       "      <td>1.165906</td>\n",
       "      <td>1.060424</td>\n",
       "      <td>1.544993</td>\n",
       "      <td>1.396186</td>\n",
       "    </tr>\n",
       "  </tbody>\n",
       "</table>\n",
       "</div>"
      ],
      "text/plain": [
       "          0         1         2         3         4\n",
       "0  1.470484  1.327009  0.842583  1.624464  1.364833\n",
       "1  1.327009  1.252078  0.555421  1.433109  1.165906\n",
       "2  0.842583  0.555421  1.272425  1.052789  1.060424\n",
       "3  1.624464  1.433109  1.052789  1.814469  1.544993\n",
       "4  1.364833  1.165906  1.060424  1.544993  1.396186"
      ]
     },
     "execution_count": 160,
     "metadata": {},
     "output_type": "execute_result"
    }
   ],
   "source": [
    "near_cov_matrix = near_psd(cov_matrix)\n",
    "df_near_cov_matrix = pd.DataFrame(near_cov_matrix)\n",
    "df_near_cov_matrix .to_excel('/home/bethtian/fintech545/beth-fintech545/Project01/Problem_2_c_R_J.xlsx')\n",
    "df_near_cov_matrix "
   ]
  },
  {
   "cell_type": "code",
   "execution_count": 161,
   "metadata": {},
   "outputs": [
    {
     "data": {
      "text/plain": [
       "True"
      ]
     },
     "execution_count": 161,
     "metadata": {},
     "output_type": "execute_result"
    }
   ],
   "source": [
    "CheckSemi(near_cov_matrix)"
   ]
  },
  {
   "cell_type": "markdown",
   "metadata": {},
   "source": [
    "#  D. Calculate the covariance matrix using only overlapping data."
   ]
  },
  {
   "cell_type": "code",
   "execution_count": 162,
   "metadata": {},
   "outputs": [
    {
     "data": {
      "text/html": [
       "<div>\n",
       "<style scoped>\n",
       "    .dataframe tbody tr th:only-of-type {\n",
       "        vertical-align: middle;\n",
       "    }\n",
       "\n",
       "    .dataframe tbody tr th {\n",
       "        vertical-align: top;\n",
       "    }\n",
       "\n",
       "    .dataframe thead th {\n",
       "        text-align: right;\n",
       "    }\n",
       "</style>\n",
       "<table border=\"1\" class=\"dataframe\">\n",
       "  <thead>\n",
       "    <tr style=\"text-align: right;\">\n",
       "      <th></th>\n",
       "      <th>x1</th>\n",
       "      <th>x2</th>\n",
       "      <th>x3</th>\n",
       "      <th>x4</th>\n",
       "      <th>x5</th>\n",
       "    </tr>\n",
       "  </thead>\n",
       "  <tbody>\n",
       "    <tr>\n",
       "      <th>7</th>\n",
       "      <td>0.560968</td>\n",
       "      <td>0.570253</td>\n",
       "      <td>0.622116</td>\n",
       "      <td>0.570309</td>\n",
       "      <td>0.417396</td>\n",
       "    </tr>\n",
       "    <tr>\n",
       "      <th>21</th>\n",
       "      <td>0.804735</td>\n",
       "      <td>0.961988</td>\n",
       "      <td>1.010609</td>\n",
       "      <td>0.879315</td>\n",
       "      <td>1.037638</td>\n",
       "    </tr>\n",
       "    <tr>\n",
       "      <th>31</th>\n",
       "      <td>0.778427</td>\n",
       "      <td>0.626604</td>\n",
       "      <td>0.745432</td>\n",
       "      <td>0.688000</td>\n",
       "      <td>0.614246</td>\n",
       "    </tr>\n",
       "    <tr>\n",
       "      <th>33</th>\n",
       "      <td>0.931806</td>\n",
       "      <td>1.242272</td>\n",
       "      <td>1.099453</td>\n",
       "      <td>1.022245</td>\n",
       "      <td>1.008071</td>\n",
       "    </tr>\n",
       "    <tr>\n",
       "      <th>34</th>\n",
       "      <td>0.905442</td>\n",
       "      <td>0.771031</td>\n",
       "      <td>1.070813</td>\n",
       "      <td>0.809276</td>\n",
       "      <td>0.846771</td>\n",
       "    </tr>\n",
       "    <tr>\n",
       "      <th>35</th>\n",
       "      <td>1.888583</td>\n",
       "      <td>1.745463</td>\n",
       "      <td>1.980359</td>\n",
       "      <td>2.160339</td>\n",
       "      <td>1.922086</td>\n",
       "    </tr>\n",
       "    <tr>\n",
       "      <th>43</th>\n",
       "      <td>0.250574</td>\n",
       "      <td>0.189652</td>\n",
       "      <td>0.164797</td>\n",
       "      <td>0.238005</td>\n",
       "      <td>0.198233</td>\n",
       "    </tr>\n",
       "    <tr>\n",
       "      <th>45</th>\n",
       "      <td>-0.388712</td>\n",
       "      <td>-0.319076</td>\n",
       "      <td>-0.225369</td>\n",
       "      <td>-0.080384</td>\n",
       "      <td>-0.396024</td>\n",
       "    </tr>\n",
       "  </tbody>\n",
       "</table>\n",
       "</div>"
      ],
      "text/plain": [
       "          x1        x2        x3        x4        x5\n",
       "7   0.560968  0.570253  0.622116  0.570309  0.417396\n",
       "21  0.804735  0.961988  1.010609  0.879315  1.037638\n",
       "31  0.778427  0.626604  0.745432  0.688000  0.614246\n",
       "33  0.931806  1.242272  1.099453  1.022245  1.008071\n",
       "34  0.905442  0.771031  1.070813  0.809276  0.846771\n",
       "35  1.888583  1.745463  1.980359  2.160339  1.922086\n",
       "43  0.250574  0.189652  0.164797  0.238005  0.198233\n",
       "45 -0.388712 -0.319076 -0.225369 -0.080384 -0.396024"
      ]
     },
     "execution_count": 162,
     "metadata": {},
     "output_type": "execute_result"
    }
   ],
   "source": [
    "overlap_df = df.dropna()\n",
    "overlap_df"
   ]
  },
  {
   "cell_type": "code",
   "execution_count": 163,
   "metadata": {},
   "outputs": [
    {
     "data": {
      "text/html": [
       "<div>\n",
       "<style scoped>\n",
       "    .dataframe tbody tr th:only-of-type {\n",
       "        vertical-align: middle;\n",
       "    }\n",
       "\n",
       "    .dataframe tbody tr th {\n",
       "        vertical-align: top;\n",
       "    }\n",
       "\n",
       "    .dataframe thead th {\n",
       "        text-align: right;\n",
       "    }\n",
       "</style>\n",
       "<table border=\"1\" class=\"dataframe\">\n",
       "  <thead>\n",
       "    <tr style=\"text-align: right;\">\n",
       "      <th></th>\n",
       "      <th>x1</th>\n",
       "      <th>x2</th>\n",
       "      <th>x3</th>\n",
       "      <th>x4</th>\n",
       "      <th>x5</th>\n",
       "    </tr>\n",
       "  </thead>\n",
       "  <tbody>\n",
       "    <tr>\n",
       "      <th>x1</th>\n",
       "      <td>0.418604</td>\n",
       "      <td>0.394054</td>\n",
       "      <td>0.424457</td>\n",
       "      <td>0.416382</td>\n",
       "      <td>0.434287</td>\n",
       "    </tr>\n",
       "    <tr>\n",
       "      <th>x2</th>\n",
       "      <td>0.394054</td>\n",
       "      <td>0.396786</td>\n",
       "      <td>0.409343</td>\n",
       "      <td>0.398401</td>\n",
       "      <td>0.422631</td>\n",
       "    </tr>\n",
       "    <tr>\n",
       "      <th>x3</th>\n",
       "      <td>0.424457</td>\n",
       "      <td>0.409343</td>\n",
       "      <td>0.441360</td>\n",
       "      <td>0.428441</td>\n",
       "      <td>0.448957</td>\n",
       "    </tr>\n",
       "    <tr>\n",
       "      <th>x4</th>\n",
       "      <td>0.416382</td>\n",
       "      <td>0.398401</td>\n",
       "      <td>0.428441</td>\n",
       "      <td>0.437274</td>\n",
       "      <td>0.440167</td>\n",
       "    </tr>\n",
       "    <tr>\n",
       "      <th>x5</th>\n",
       "      <td>0.434287</td>\n",
       "      <td>0.422631</td>\n",
       "      <td>0.448957</td>\n",
       "      <td>0.440167</td>\n",
       "      <td>0.466272</td>\n",
       "    </tr>\n",
       "  </tbody>\n",
       "</table>\n",
       "</div>"
      ],
      "text/plain": [
       "          x1        x2        x3        x4        x5\n",
       "x1  0.418604  0.394054  0.424457  0.416382  0.434287\n",
       "x2  0.394054  0.396786  0.409343  0.398401  0.422631\n",
       "x3  0.424457  0.409343  0.441360  0.428441  0.448957\n",
       "x4  0.416382  0.398401  0.428441  0.437274  0.440167\n",
       "x5  0.434287  0.422631  0.448957  0.440167  0.466272"
      ]
     },
     "execution_count": 163,
     "metadata": {},
     "output_type": "execute_result"
    }
   ],
   "source": [
    "overlap_cov_matrix = overlap_df.cov()\n",
    "overlap_cov_matrix.to_excel('/home/bethtian/fintech545/beth-fintech545/Project01/Problem_2_d.xlsx')\n",
    "overlap_cov_matrix"
   ]
  },
  {
   "cell_type": "markdown",
   "metadata": {},
   "source": [
    "#  E. Compare the results of the covariance matrices in C and D. Explain the differences."
   ]
  },
  {
   "cell_type": "markdown",
   "metadata": {},
   "source": [
    "## E.1 Covariance matrices in C"
   ]
  },
  {
   "cell_type": "code",
   "execution_count": 164,
   "metadata": {},
   "outputs": [
    {
     "name": "stdout",
     "output_type": "stream",
     "text": [
      "The covariance matrix in C (Rebenato and Jackel) is: \n"
     ]
    },
    {
     "data": {
      "text/html": [
       "<div>\n",
       "<style scoped>\n",
       "    .dataframe tbody tr th:only-of-type {\n",
       "        vertical-align: middle;\n",
       "    }\n",
       "\n",
       "    .dataframe tbody tr th {\n",
       "        vertical-align: top;\n",
       "    }\n",
       "\n",
       "    .dataframe thead th {\n",
       "        text-align: right;\n",
       "    }\n",
       "</style>\n",
       "<table border=\"1\" class=\"dataframe\">\n",
       "  <thead>\n",
       "    <tr style=\"text-align: right;\">\n",
       "      <th></th>\n",
       "      <th>0</th>\n",
       "      <th>1</th>\n",
       "      <th>2</th>\n",
       "      <th>3</th>\n",
       "      <th>4</th>\n",
       "    </tr>\n",
       "  </thead>\n",
       "  <tbody>\n",
       "    <tr>\n",
       "      <th>0</th>\n",
       "      <td>1.470484</td>\n",
       "      <td>1.327009</td>\n",
       "      <td>0.842583</td>\n",
       "      <td>1.624464</td>\n",
       "      <td>1.364833</td>\n",
       "    </tr>\n",
       "    <tr>\n",
       "      <th>1</th>\n",
       "      <td>1.327009</td>\n",
       "      <td>1.252078</td>\n",
       "      <td>0.555421</td>\n",
       "      <td>1.433109</td>\n",
       "      <td>1.165906</td>\n",
       "    </tr>\n",
       "    <tr>\n",
       "      <th>2</th>\n",
       "      <td>0.842583</td>\n",
       "      <td>0.555421</td>\n",
       "      <td>1.272425</td>\n",
       "      <td>1.052789</td>\n",
       "      <td>1.060424</td>\n",
       "    </tr>\n",
       "    <tr>\n",
       "      <th>3</th>\n",
       "      <td>1.624464</td>\n",
       "      <td>1.433109</td>\n",
       "      <td>1.052789</td>\n",
       "      <td>1.814469</td>\n",
       "      <td>1.544993</td>\n",
       "    </tr>\n",
       "    <tr>\n",
       "      <th>4</th>\n",
       "      <td>1.364833</td>\n",
       "      <td>1.165906</td>\n",
       "      <td>1.060424</td>\n",
       "      <td>1.544993</td>\n",
       "      <td>1.396186</td>\n",
       "    </tr>\n",
       "  </tbody>\n",
       "</table>\n",
       "</div>"
      ],
      "text/plain": [
       "          0         1         2         3         4\n",
       "0  1.470484  1.327009  0.842583  1.624464  1.364833\n",
       "1  1.327009  1.252078  0.555421  1.433109  1.165906\n",
       "2  0.842583  0.555421  1.272425  1.052789  1.060424\n",
       "3  1.624464  1.433109  1.052789  1.814469  1.544993\n",
       "4  1.364833  1.165906  1.060424  1.544993  1.396186"
      ]
     },
     "execution_count": 164,
     "metadata": {},
     "output_type": "execute_result"
    }
   ],
   "source": [
    "print(\"The covariance matrix in C (Rebenato and Jackel) is: \")\n",
    "df_near_cov_matrix\n"
   ]
  },
  {
   "cell_type": "code",
   "execution_count": 165,
   "metadata": {},
   "outputs": [
    {
     "name": "stdout",
     "output_type": "stream",
     "text": [
      "The covariance matrix in C (Higham) is: \n"
     ]
    },
    {
     "data": {
      "text/html": [
       "<div>\n",
       "<style scoped>\n",
       "    .dataframe tbody tr th:only-of-type {\n",
       "        vertical-align: middle;\n",
       "    }\n",
       "\n",
       "    .dataframe tbody tr th {\n",
       "        vertical-align: top;\n",
       "    }\n",
       "\n",
       "    .dataframe thead th {\n",
       "        text-align: right;\n",
       "    }\n",
       "</style>\n",
       "<table border=\"1\" class=\"dataframe\">\n",
       "  <thead>\n",
       "    <tr style=\"text-align: right;\">\n",
       "      <th></th>\n",
       "      <th>0</th>\n",
       "      <th>1</th>\n",
       "      <th>2</th>\n",
       "      <th>3</th>\n",
       "      <th>4</th>\n",
       "    </tr>\n",
       "  </thead>\n",
       "  <tbody>\n",
       "    <tr>\n",
       "      <th>0</th>\n",
       "      <td>1.470494</td>\n",
       "      <td>1.333849</td>\n",
       "      <td>0.898344</td>\n",
       "      <td>1.629949</td>\n",
       "      <td>1.403330</td>\n",
       "    </tr>\n",
       "    <tr>\n",
       "      <th>1</th>\n",
       "      <td>1.333849</td>\n",
       "      <td>1.252084</td>\n",
       "      <td>0.640153</td>\n",
       "      <td>1.460364</td>\n",
       "      <td>1.223906</td>\n",
       "    </tr>\n",
       "    <tr>\n",
       "      <th>2</th>\n",
       "      <td>0.898344</td>\n",
       "      <td>0.640153</td>\n",
       "      <td>1.272426</td>\n",
       "      <td>1.070811</td>\n",
       "      <td>1.060339</td>\n",
       "    </tr>\n",
       "    <tr>\n",
       "      <th>3</th>\n",
       "      <td>1.629949</td>\n",
       "      <td>1.460364</td>\n",
       "      <td>1.070811</td>\n",
       "      <td>1.814478</td>\n",
       "      <td>1.576560</td>\n",
       "    </tr>\n",
       "    <tr>\n",
       "      <th>4</th>\n",
       "      <td>1.403330</td>\n",
       "      <td>1.223906</td>\n",
       "      <td>1.060339</td>\n",
       "      <td>1.576560</td>\n",
       "      <td>1.396198</td>\n",
       "    </tr>\n",
       "  </tbody>\n",
       "</table>\n",
       "</div>"
      ],
      "text/plain": [
       "          0         1         2         3         4\n",
       "0  1.470494  1.333849  0.898344  1.629949  1.403330\n",
       "1  1.333849  1.252084  0.640153  1.460364  1.223906\n",
       "2  0.898344  0.640153  1.272426  1.070811  1.060339\n",
       "3  1.629949  1.460364  1.070811  1.814478  1.576560\n",
       "4  1.403330  1.223906  1.060339  1.576560  1.396198"
      ]
     },
     "execution_count": 165,
     "metadata": {},
     "output_type": "execute_result"
    }
   ],
   "source": [
    "print(\"The covariance matrix in C (Higham) is: \")\n",
    "df_Y"
   ]
  },
  {
   "cell_type": "markdown",
   "metadata": {},
   "source": [
    "## E.2 Covariance matrices in D"
   ]
  },
  {
   "cell_type": "code",
   "execution_count": 166,
   "metadata": {},
   "outputs": [
    {
     "name": "stdout",
     "output_type": "stream",
     "text": [
      "The covariance matrix in D is: \n"
     ]
    },
    {
     "data": {
      "text/html": [
       "<div>\n",
       "<style scoped>\n",
       "    .dataframe tbody tr th:only-of-type {\n",
       "        vertical-align: middle;\n",
       "    }\n",
       "\n",
       "    .dataframe tbody tr th {\n",
       "        vertical-align: top;\n",
       "    }\n",
       "\n",
       "    .dataframe thead th {\n",
       "        text-align: right;\n",
       "    }\n",
       "</style>\n",
       "<table border=\"1\" class=\"dataframe\">\n",
       "  <thead>\n",
       "    <tr style=\"text-align: right;\">\n",
       "      <th></th>\n",
       "      <th>x1</th>\n",
       "      <th>x2</th>\n",
       "      <th>x3</th>\n",
       "      <th>x4</th>\n",
       "      <th>x5</th>\n",
       "    </tr>\n",
       "  </thead>\n",
       "  <tbody>\n",
       "    <tr>\n",
       "      <th>x1</th>\n",
       "      <td>0.418604</td>\n",
       "      <td>0.394054</td>\n",
       "      <td>0.424457</td>\n",
       "      <td>0.416382</td>\n",
       "      <td>0.434287</td>\n",
       "    </tr>\n",
       "    <tr>\n",
       "      <th>x2</th>\n",
       "      <td>0.394054</td>\n",
       "      <td>0.396786</td>\n",
       "      <td>0.409343</td>\n",
       "      <td>0.398401</td>\n",
       "      <td>0.422631</td>\n",
       "    </tr>\n",
       "    <tr>\n",
       "      <th>x3</th>\n",
       "      <td>0.424457</td>\n",
       "      <td>0.409343</td>\n",
       "      <td>0.441360</td>\n",
       "      <td>0.428441</td>\n",
       "      <td>0.448957</td>\n",
       "    </tr>\n",
       "    <tr>\n",
       "      <th>x4</th>\n",
       "      <td>0.416382</td>\n",
       "      <td>0.398401</td>\n",
       "      <td>0.428441</td>\n",
       "      <td>0.437274</td>\n",
       "      <td>0.440167</td>\n",
       "    </tr>\n",
       "    <tr>\n",
       "      <th>x5</th>\n",
       "      <td>0.434287</td>\n",
       "      <td>0.422631</td>\n",
       "      <td>0.448957</td>\n",
       "      <td>0.440167</td>\n",
       "      <td>0.466272</td>\n",
       "    </tr>\n",
       "  </tbody>\n",
       "</table>\n",
       "</div>"
      ],
      "text/plain": [
       "          x1        x2        x3        x4        x5\n",
       "x1  0.418604  0.394054  0.424457  0.416382  0.434287\n",
       "x2  0.394054  0.396786  0.409343  0.398401  0.422631\n",
       "x3  0.424457  0.409343  0.441360  0.428441  0.448957\n",
       "x4  0.416382  0.398401  0.428441  0.437274  0.440167\n",
       "x5  0.434287  0.422631  0.448957  0.440167  0.466272"
      ]
     },
     "execution_count": 166,
     "metadata": {},
     "output_type": "execute_result"
    }
   ],
   "source": [
    "print(\"The covariance matrix in D is: \")\n",
    "overlap_cov_matrix\n"
   ]
  },
  {
   "cell_type": "markdown",
   "metadata": {},
   "source": [
    "**Explanation**"
   ]
  },
  {
   "cell_type": "markdown",
   "metadata": {},
   "source": [
    "The values in two psd matrices is similar to each other, ranging 1.0 from 1.8. The PSD matrices show greater variation in their diagonal elements. The values vary with each other. The The vaues in overlapping covariance matrix is relative small, only ranging 0.39 from 0.47. It has relatively close diagonal elements. The values are more similar within the matrix.\n",
    "\n",
    "The overlapping data only capture relationships with the overlapping window, lack lots of information. This lead to the underestimation for the true covariance values. "
   ]
  },
  {
   "cell_type": "markdown",
   "metadata": {},
   "source": []
  }
 ],
 "metadata": {
  "kernelspec": {
   "display_name": "base",
   "language": "python",
   "name": "python3"
  },
  "language_info": {
   "codemirror_mode": {
    "name": "ipython",
    "version": 3
   },
   "file_extension": ".py",
   "mimetype": "text/x-python",
   "name": "python",
   "nbconvert_exporter": "python",
   "pygments_lexer": "ipython3",
   "version": "3.12.2"
  }
 },
 "nbformat": 4,
 "nbformat_minor": 2
}
