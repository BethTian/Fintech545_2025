{
 "cells": [
  {
   "cell_type": "code",
   "execution_count": 15,
   "metadata": {},
   "outputs": [],
   "source": [
    "import pandas as pd\n",
    "import numpy as np\n",
    "import math"
   ]
  },
  {
   "cell_type": "code",
   "execution_count": 16,
   "metadata": {},
   "outputs": [
    {
     "name": "stdout",
     "output_type": "stream",
     "text": [
      "                 X\n",
      "count  1000.000000\n",
      "mean      0.050198\n",
      "std       0.101649\n",
      "min      -0.293030\n",
      "25%      -0.019959\n",
      "50%       0.052596\n",
      "75%       0.115794\n",
      "max       0.413809\n"
     ]
    }
   ],
   "source": [
    "df = pd.read_csv(\"/home/bethtian/fintech545/FinTech545_Spring2025/Projects/Project01/problem1.csv\")\n",
    "df_info = df.describe()\n",
    "print(df_info)"
   ]
  },
  {
   "cell_type": "code",
   "execution_count": 17,
   "metadata": {},
   "outputs": [],
   "source": [
    "arr = np.array(df['X'])\n",
    "# arr"
   ]
  },
  {
   "cell_type": "markdown",
   "metadata": {},
   "source": [
    "# A. Calculate the Mean, Variance, Skewness and Kurtosis of the data"
   ]
  },
  {
   "cell_type": "code",
   "execution_count": 18,
   "metadata": {},
   "outputs": [
    {
     "name": "stdout",
     "output_type": "stream",
     "text": [
      "Mean: 0.0502\n",
      "Variance: 0.0103\n",
      "Skewness: 0.1204\n",
      "Kurtosis: 0.2229\n"
     ]
    }
   ],
   "source": [
    "def calculateMoments(data):\n",
    "    mean = np.mean(data)\n",
    "    var = np.var(data)\n",
    "    skewness = np.sum(((data-mean)/math.sqrt(var))**3)/len(data)\n",
    "    kurtosis = np.sum(((data-mean)/math.sqrt(var))**4)/len(data) - 3\n",
    "    return mean, var, skewness, kurtosis\n",
    "mean, variance, skewness, kurtosis = calculateMoments(arr)\n",
    "print(f\"Mean: {mean:.4f}\\nVariance: {variance:.4f}\\nSkewness: {skewness:.4f}\\nKurtosis: {kurtosis:.4f}\")"
   ]
  },
  {
   "cell_type": "markdown",
   "metadata": {},
   "source": [
    "# B. Given a choice between a Normal Distribution and a T-Distribution, which one would you choose to model the data? Why?"
   ]
  },
  {
   "cell_type": "code",
   "execution_count": 19,
   "metadata": {},
   "outputs": [],
   "source": [
    "import matplotlib.pyplot as plt\n",
    "import seaborn as sns"
   ]
  },
  {
   "cell_type": "code",
   "execution_count": 20,
   "metadata": {},
   "outputs": [
    {
     "data": {
      "image/png": "[encoded data removed]",
      "text/plain": [
       "<Figure size 640x480 with 1 Axes>"
      ]
     },
     "metadata": {},
     "output_type": "display_data"
    }
   ],
   "source": [
    "\n",
    "plt.figure()\n",
    "sns.histplot(data =arr, kde = True, color = 'blue', alpha = 0.5)\n",
    "\n",
    "plt.title('Distribution of X')\n",
    "plt.xlabel('Value')\n",
    "plt.ylabel('Count')\n",
    "plt.show()"
   ]
  },
  {
   "cell_type": "code",
   "execution_count": 21,
   "metadata": {},
   "outputs": [
    {
     "data": {
      "text/html": [
       "<div>\n",
       "<style scoped>\n",
       "    .dataframe tbody tr th:only-of-type {\n",
       "        vertical-align: middle;\n",
       "    }\n",
       "\n",
       "    .dataframe tbody tr th {\n",
       "        vertical-align: top;\n",
       "    }\n",
       "\n",
       "    .dataframe thead th {\n",
       "        text-align: right;\n",
       "    }\n",
       "</style>\n",
       "<table border=\"1\" class=\"dataframe\">\n",
       "  <thead>\n",
       "    <tr style=\"text-align: right;\">\n",
       "      <th></th>\n",
       "      <th>X</th>\n",
       "    </tr>\n",
       "  </thead>\n",
       "  <tbody>\n",
       "    <tr>\n",
       "      <th>count</th>\n",
       "      <td>1000.000000</td>\n",
       "    </tr>\n",
       "    <tr>\n",
       "      <th>mean</th>\n",
       "      <td>0.050198</td>\n",
       "    </tr>\n",
       "    <tr>\n",
       "      <th>std</th>\n",
       "      <td>0.101649</td>\n",
       "    </tr>\n",
       "    <tr>\n",
       "      <th>min</th>\n",
       "      <td>-0.293030</td>\n",
       "    </tr>\n",
       "    <tr>\n",
       "      <th>25%</th>\n",
       "      <td>-0.019959</td>\n",
       "    </tr>\n",
       "    <tr>\n",
       "      <th>50%</th>\n",
       "      <td>0.052596</td>\n",
       "    </tr>\n",
       "    <tr>\n",
       "      <th>75%</th>\n",
       "      <td>0.115794</td>\n",
       "    </tr>\n",
       "    <tr>\n",
       "      <th>max</th>\n",
       "      <td>0.413809</td>\n",
       "    </tr>\n",
       "  </tbody>\n",
       "</table>\n",
       "</div>"
      ],
      "text/plain": [
       "                 X\n",
       "count  1000.000000\n",
       "mean      0.050198\n",
       "std       0.101649\n",
       "min      -0.293030\n",
       "25%      -0.019959\n",
       "50%       0.052596\n",
       "75%       0.115794\n",
       "max       0.413809"
      ]
     },
     "execution_count": 21,
     "metadata": {},
     "output_type": "execute_result"
    }
   ],
   "source": [
    "df_info"
   ]
  },
  {
   "cell_type": "markdown",
   "metadata": {},
   "source": [
    "I would like to choose normal distribution. Given the question C, here I just give two reasons related to the data features and visualization.\n",
    "\n",
    "1. According to the information about X, we can know that the amount of observations in X is 1000. This means X is a relative large sample. The standard deviation of X is 0.1 and there is no extreme high or low values.\n",
    "\n",
    "2. The visualization of X shows that X does not have fat tail or very extreme values. The data also exhibits the symmetric and bell-shaped distribution."
   ]
  },
  {
   "cell_type": "markdown",
   "metadata": {},
   "source": [
    "# C.  Fit both distributions and prove or disprove your choice in B using methods presented in class."
   ]
  },
  {
   "cell_type": "markdown",
   "metadata": {},
   "source": [
    "## a. Fitting"
   ]
  },
  {
   "cell_type": "code",
   "execution_count": 22,
   "metadata": {},
   "outputs": [],
   "source": [
    "from scipy import stats"
   ]
  },
  {
   "cell_type": "code",
   "execution_count": 23,
   "metadata": {},
   "outputs": [
    {
     "name": "stdout",
     "output_type": "stream",
     "text": [
      "The results of normal distribution: mu = 0.05, sigma = 0.10 \n",
      "The result of t distribution: df=28.71, loc=0.05, scale=0.10\n"
     ]
    }
   ],
   "source": [
    "# fit the normal distribution\n",
    "mu,sigma = stats.norm.fit(arr)\n",
    "print(f\"The results of normal distribution: mu = {mu:.2f}, sigma = {sigma:.2f} \")\n",
    "\n",
    "#fit the t distribution\n",
    "df, loc, scale = stats.t.fit(arr)\n",
    "print(f\"The result of t distribution: df={df:.2f}, loc={loc:.2f}, scale={scale:.2f}\")"
   ]
  },
  {
   "cell_type": "code",
   "execution_count": 24,
   "metadata": {},
   "outputs": [
    {
     "data": {
      "image/png": "[encoded data removed]",
      "text/plain": [
       "<Figure size 640x480 with 1 Axes>"
      ]
     },
     "metadata": {},
     "output_type": "display_data"
    }
   ],
   "source": [
    "#Visualization\n",
    "plt.figure()\n",
    "plt.hist(arr, density = True, bins =\"auto\", alpha = 0.7 )\n",
    "\n",
    "x_plot = np.linspace(min(arr), max(arr), 100)\n",
    "plt.plot(x_plot, stats.norm.pdf(x_plot, mu,sigma), \"r-\", label = \"Normal\")\n",
    "plt.plot(x_plot, stats.t.pdf(x_plot, df,loc,scale), \"g-\", label = \"t\")\n",
    "\n",
    "plt.legend()\n",
    "plt.show()"
   ]
  },
  {
   "cell_type": "markdown",
   "metadata": {},
   "source": [
    "## b. Comparison"
   ]
  },
  {
   "cell_type": "markdown",
   "metadata": {},
   "source": [
    "### b.1. Comparison through goodness of fit."
   ]
  },
  {
   "cell_type": "code",
   "execution_count": 25,
   "metadata": {},
   "outputs": [
    {
     "name": "stdout",
     "output_type": "stream",
     "text": [
      "Normal: R² = 0.9935, Adj R² = 0.9934\n",
      "t: R² = 0.9932, Adj R² = 0.9930\n"
     ]
    }
   ],
   "source": [
    "def Rsquare(x, dist, params):\n",
    "    hist, bin_edges = np.histogram(x, bins = \"auto\", density = True)\n",
    "    bin_centers = (bin_edges[:-1]+bin_edges[1:])/2\n",
    "    \n",
    "    y_pred = dist.pdf(x_plot, *params)    \n",
    "    y_true = np.interp(x_plot, bin_centers, hist)\n",
    "    \n",
    "    ss_res = np.sum((y_true - y_pred) **2)\n",
    "    ss_tot = np.sum((y_true - np.mean(y_true))**2)\n",
    "    r2 = 1-(ss_res/ ss_tot)\n",
    "    \n",
    "    #adjusted r-square\n",
    "    n = len(y_true)\n",
    "    p = len(params)\n",
    "    adj_r2 = 1-(1-r2)*(n-1)/(n-p-1)\n",
    "    \n",
    "    return r2, adj_r2\n",
    "\n",
    "r2_norm, adj_r2_norm = Rsquare(arr, stats.norm, (mu, sigma))\n",
    "r2_t, adj_r2_t = Rsquare(arr, stats.t, (df, loc, scale))\n",
    "\n",
    "print(f\"Normal: R² = {r2_norm:.4f}, Adj R² = {adj_r2_norm:.4f}\")\n",
    "print(f\"t: R² = {r2_t:.4f}, Adj R² = {adj_r2_t:.4f}\")\n",
    "    "
   ]
  },
  {
   "cell_type": "markdown",
   "metadata": {},
   "source": [
    "From result we can know that the R² and Adj R² of normal distribution are both higher than the t distribution. This means accoring to the R² and Adj R², normal distribution fits the data better."
   ]
  },
  {
   "cell_type": "markdown",
   "metadata": {},
   "source": [
    "### b.2. Comparison through AIC/BIC"
   ]
  },
  {
   "cell_type": "code",
   "execution_count": 26,
   "metadata": {},
   "outputs": [
    {
     "name": "stdout",
     "output_type": "stream",
     "text": [
      "Normal distribution: AIC_norm=-1731.59, BIC_norm=-1721.77\n",
      "t distribution: AIC_t=-1731.42, BIC_t=-1716.70\n"
     ]
    }
   ],
   "source": [
    "def aicbic(x, dist, params):\n",
    "    loglik = np.sum(dist.logpdf(x, *params))\n",
    "    k = len(params)\n",
    "    n = len(x)\n",
    "    aic = 2*k -2*loglik\n",
    "    bic = k* np.log(n) - 2*loglik\n",
    "    return aic, bic\n",
    "\n",
    "norm_aic, norm_bic = aicbic(arr, stats.norm, (mu, sigma))\n",
    "t_aic, t_bic = aicbic(arr, stats.t, (df, loc, scale))\n",
    "\n",
    "print(f\"Normal distribution: AIC_norm={norm_aic:.2f}, BIC_norm={norm_bic:.2f}\")\n",
    "print(f\"t distribution: AIC_t={t_aic:.2f}, BIC_t={t_bic:.2f}\")\n"
   ]
  },
  {
   "cell_type": "markdown",
   "metadata": {},
   "source": [
    "From the result of AIC and BIC of both distributions, we can find that both AIC and BIC of norm distribution are lower than that of t distribution. This means that the fitting result of norm distribution is better than t distribution. \n"
   ]
  },
  {
   "cell_type": "markdown",
   "metadata": {},
   "source": [
    "***Conclusion:***\n",
    "Hence, the comparisons through goodness of fit and AICBIC indicate that the norm distribution fits data better."
   ]
  }
 ],
 "metadata": {
  "kernelspec": {
   "display_name": "base",
   "language": "python",
   "name": "python3"
  },
  "language_info": {
   "codemirror_mode": {
    "name": "ipython",
    "version": 3
   },
   "file_extension": ".py",
   "mimetype": "text/x-python",
   "name": "python",
   "nbconvert_exporter": "python",
   "pygments_lexer": "ipython3",
   "version": "3.12.2"
  }
 },
 "nbformat": 4,
 "nbformat_minor": 2
}
